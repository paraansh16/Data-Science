{
  "nbformat": 4,
  "nbformat_minor": 0,
  "metadata": {
    "colab": {
      "provenance": []
    },
    "kernelspec": {
      "name": "python3",
      "display_name": "Python 3"
    },
    "language_info": {
      "name": "python"
    }
  },
  "cells": [
    {
      "cell_type": "code",
      "execution_count": null,
      "metadata": {
        "colab": {
          "base_uri": "https://localhost:8080/"
        },
        "id": "mgIN7UUdltiD",
        "outputId": "4f87cb7a-91de-46a4-f170-e60e4a4179aa"
      },
      "outputs": [
        {
          "output_type": "stream",
          "name": "stdout",
          "text": [
            "Selected Features (SFS): (0, 2, 3)\n",
            "Model accuracy with selected features (SFS): 1.0\n",
            "Selected Features (SBS): (0, 2, 3)\n",
            "Model accuracy with selected features (SBS): 1.0\n"
          ]
        }
      ],
      "source": [
        "import numpy as np\n",
        "import pandas as pd\n",
        "from sklearn.datasets import load_iris\n",
        "from sklearn.model_selection import train_test_split\n",
        "from sklearn.linear_model import LogisticRegression\n",
        "from mlxtend.feature_selection import SequentialFeatureSelector as SFS\n",
        "from sklearn.metrics import accuracy_score\n",
        "\n",
        "# Load dataset\n",
        "iris = load_iris()\n",
        "X = pd.DataFrame(iris.data, columns=iris.feature_names)\n",
        "y = iris.target\n",
        "\n",
        "# Splitting dataset into training and testing sets\n",
        "X_train, X_test, y_train, y_test = train_test_split(X, y, test_size=0.2, random_state=42)\n",
        "\n",
        "# Initializing the classifier (Logistic Regression in this case)\n",
        "clf = LogisticRegression(max_iter=200)\n",
        "\n",
        "# Initializing the Sequential Forward Selection (SFS)\n",
        "sfs = SFS(clf,\n",
        "           k_features=3,  # Select top 3 features\n",
        "           forward=True,  # Forward selection\n",
        "           floating=False,  # Set to False for simple step forward\n",
        "           scoring='accuracy',\n",
        "           cv=5)  # 5-fold cross-validation\n",
        "\n",
        "# Perform SFS\n",
        "sfs = sfs.fit(X_train, y_train)\n",
        "\n",
        "# Get selected feature indices from SFS\n",
        "selected_features_sfs = sfs.k_feature_idx_\n",
        "print(f\"Selected Features (SFS): {selected_features_sfs}\")\n",
        "\n",
        "# Subset the dataset with selected features from SFS\n",
        "X_train_sfs = sfs.transform(X_train)\n",
        "X_test_sfs = sfs.transform(X_test)\n",
        "\n",
        "# Train classifier with selected features from SFS\n",
        "clf.fit(X_train_sfs, y_train)\n",
        "\n",
        "# Predict and evaluate model performance with SFS\n",
        "y_pred_sfs = clf.predict(X_test_sfs)\n",
        "accuracy_sfs = accuracy_score(y_test, y_pred_sfs)\n",
        "print(f\"Model accuracy with selected features (SFS): {accuracy_sfs}\")\n",
        "\n",
        "# Initializing the Sequential Backward Selection (SBS)\n",
        "sbs = SFS(clf,\n",
        "           k_features=3,  # Select top 3 features\n",
        "           forward=False,  # Backward selection\n",
        "           floating=False,  # Set to False for simple step backward\n",
        "           scoring='accuracy',\n",
        "           cv=5)  # 5-fold cross-validation\n",
        "\n",
        "# Perform SBS\n",
        "sbs = sbs.fit(X_train, y_train)\n",
        "\n",
        "# Get selected feature indices from SBS\n",
        "selected_features_sbs = sbs.k_feature_idx_\n",
        "print(f\"Selected Features (SBS): {selected_features_sbs}\")\n",
        "\n",
        "# Subset the dataset with selected features from SBS\n",
        "X_train_sbs = sbs.transform(X_train)\n",
        "X_test_sbs = sbs.transform(X_test)\n",
        "\n",
        "# Train classifier with selected features from SBS\n",
        "clf.fit(X_train_sbs, y_train)\n",
        "\n",
        "# Predict and evaluate model performance with SBS\n",
        "y_pred_sbs = clf.predict(X_test_sbs)\n",
        "accuracy_sbs = accuracy_score(y_test, y_pred_sbs)\n",
        "print(f\"Model accuracy with selected features (SBS): {accuracy_sbs}\")\n"
      ]
    },
    {
      "cell_type": "code",
      "source": [
        "# prompt: print dataset\n",
        "\n",
        "print(X)\n"
      ],
      "metadata": {
        "colab": {
          "base_uri": "https://localhost:8080/"
        },
        "id": "xvAwFTszmfND",
        "outputId": "34a02107-9598-42b9-adb7-bb3faca61ace"
      },
      "execution_count": null,
      "outputs": [
        {
          "output_type": "stream",
          "name": "stdout",
          "text": [
            "     sepal length (cm)  sepal width (cm)  petal length (cm)  petal width (cm)\n",
            "0                  5.1               3.5                1.4               0.2\n",
            "1                  4.9               3.0                1.4               0.2\n",
            "2                  4.7               3.2                1.3               0.2\n",
            "3                  4.6               3.1                1.5               0.2\n",
            "4                  5.0               3.6                1.4               0.2\n",
            "..                 ...               ...                ...               ...\n",
            "145                6.7               3.0                5.2               2.3\n",
            "146                6.3               2.5                5.0               1.9\n",
            "147                6.5               3.0                5.2               2.0\n",
            "148                6.2               3.4                5.4               2.3\n",
            "149                5.9               3.0                5.1               1.8\n",
            "\n",
            "[150 rows x 4 columns]\n"
          ]
        }
      ]
    }
  ]
}